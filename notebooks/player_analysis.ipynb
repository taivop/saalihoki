{
 "cells": [
  {
   "cell_type": "code",
   "execution_count": 168,
   "id": "3c5e3f0a",
   "metadata": {},
   "outputs": [],
   "source": [
    "import pandas as pd\n",
    "import seaborn as sns\n",
    "\n",
    "from matplotlib import rcParams\n",
    "\n",
    "# figure size in inches\n",
    "rcParams['figure.figsize'] = 16,8"
   ]
  },
  {
   "cell_type": "code",
   "execution_count": 169,
   "id": "d1620923",
   "metadata": {},
   "outputs": [
    {
     "name": "stdout",
     "output_type": "stream",
     "text": [
      "3124 players, 17652 history items\n"
     ]
    }
   ],
   "source": [
    "df_player = pd.read_csv(\"../player.csv\")\n",
    "df_history = pd.read_csv(\"../player_history.csv\")\n",
    "\n",
    "print(f\"{df_player.shape[0]} players, {df_history.shape[0]} history items\")"
   ]
  },
  {
   "cell_type": "code",
   "execution_count": 170,
   "id": "bd959577",
   "metadata": {},
   "outputs": [
    {
     "data": {
      "text/html": [
       "<div>\n",
       "<style scoped>\n",
       "    .dataframe tbody tr th:only-of-type {\n",
       "        vertical-align: middle;\n",
       "    }\n",
       "\n",
       "    .dataframe tbody tr th {\n",
       "        vertical-align: top;\n",
       "    }\n",
       "\n",
       "    .dataframe thead th {\n",
       "        text-align: right;\n",
       "    }\n",
       "</style>\n",
       "<table border=\"1\" class=\"dataframe\">\n",
       "  <thead>\n",
       "    <tr style=\"text-align: right;\">\n",
       "      <th></th>\n",
       "      <th>player_id</th>\n",
       "      <th>name</th>\n",
       "      <th>birthday</th>\n",
       "      <th>item</th>\n",
       "    </tr>\n",
       "  </thead>\n",
       "  <tbody>\n",
       "    <tr>\n",
       "      <th>0</th>\n",
       "      <td>12</td>\n",
       "      <td>Riive Tamm</td>\n",
       "      <td>17.11.1974</td>\n",
       "      <td>player_item</td>\n",
       "    </tr>\n",
       "    <tr>\n",
       "      <th>1</th>\n",
       "      <td>17</td>\n",
       "      <td>Ela Vulla</td>\n",
       "      <td>16.12.1979</td>\n",
       "      <td>player_item</td>\n",
       "    </tr>\n",
       "    <tr>\n",
       "      <th>2</th>\n",
       "      <td>18</td>\n",
       "      <td>Kaidi Aosaar</td>\n",
       "      <td>28.05.1987</td>\n",
       "      <td>player_item</td>\n",
       "    </tr>\n",
       "    <tr>\n",
       "      <th>3</th>\n",
       "      <td>19</td>\n",
       "      <td>Kert Jusar</td>\n",
       "      <td>14.04.1982</td>\n",
       "      <td>player_item</td>\n",
       "    </tr>\n",
       "    <tr>\n",
       "      <th>4</th>\n",
       "      <td>11</td>\n",
       "      <td>Triinu Saluste</td>\n",
       "      <td>04.02.1993</td>\n",
       "      <td>player_item</td>\n",
       "    </tr>\n",
       "  </tbody>\n",
       "</table>\n",
       "</div>"
      ],
      "text/plain": [
       "   player_id            name    birthday         item\n",
       "0         12      Riive Tamm  17.11.1974  player_item\n",
       "1         17       Ela Vulla  16.12.1979  player_item\n",
       "2         18    Kaidi Aosaar  28.05.1987  player_item\n",
       "3         19      Kert Jusar  14.04.1982  player_item\n",
       "4         11  Triinu Saluste  04.02.1993  player_item"
      ]
     },
     "execution_count": 170,
     "metadata": {},
     "output_type": "execute_result"
    }
   ],
   "source": [
    "df_player.head()"
   ]
  },
  {
   "cell_type": "code",
   "execution_count": 171,
   "id": "8c7a7c70",
   "metadata": {},
   "outputs": [
    {
     "data": {
      "text/html": [
       "<div>\n",
       "<style scoped>\n",
       "    .dataframe tbody tr th:only-of-type {\n",
       "        vertical-align: middle;\n",
       "    }\n",
       "\n",
       "    .dataframe tbody tr th {\n",
       "        vertical-align: top;\n",
       "    }\n",
       "\n",
       "    .dataframe thead th {\n",
       "        text-align: right;\n",
       "    }\n",
       "</style>\n",
       "<table border=\"1\" class=\"dataframe\">\n",
       "  <thead>\n",
       "    <tr style=\"text-align: right;\">\n",
       "      <th></th>\n",
       "      <th>season</th>\n",
       "      <th>team</th>\n",
       "      <th>player_id</th>\n",
       "      <th>item</th>\n",
       "      <th>league_name</th>\n",
       "      <th>n_games</th>\n",
       "      <th>n_goals</th>\n",
       "      <th>n_passes</th>\n",
       "    </tr>\n",
       "  </thead>\n",
       "  <tbody>\n",
       "    <tr>\n",
       "      <th>0</th>\n",
       "      <td>2011 / 2012</td>\n",
       "      <td>Tamsalu EBE</td>\n",
       "      <td>12</td>\n",
       "      <td>player_history_item</td>\n",
       "      <td>Naiste liiga</td>\n",
       "      <td>14</td>\n",
       "      <td>0</td>\n",
       "      <td>1</td>\n",
       "    </tr>\n",
       "    <tr>\n",
       "      <th>1</th>\n",
       "      <td>2014 / 2015</td>\n",
       "      <td>Team PPT</td>\n",
       "      <td>17</td>\n",
       "      <td>player_history_item</td>\n",
       "      <td>Naiste esiliiga</td>\n",
       "      <td>8</td>\n",
       "      <td>2</td>\n",
       "      <td>3</td>\n",
       "    </tr>\n",
       "    <tr>\n",
       "      <th>2</th>\n",
       "      <td>2011 / 2012</td>\n",
       "      <td>Tamsalu EBE</td>\n",
       "      <td>17</td>\n",
       "      <td>player_history_item</td>\n",
       "      <td>Naiste liiga</td>\n",
       "      <td>14</td>\n",
       "      <td>1</td>\n",
       "      <td>1</td>\n",
       "    </tr>\n",
       "    <tr>\n",
       "      <th>3</th>\n",
       "      <td>2017 / 2018</td>\n",
       "      <td>Arenculle</td>\n",
       "      <td>18</td>\n",
       "      <td>player_history_item</td>\n",
       "      <td>Naiste esiliiga</td>\n",
       "      <td>4</td>\n",
       "      <td>0</td>\n",
       "      <td>0</td>\n",
       "    </tr>\n",
       "    <tr>\n",
       "      <th>4</th>\n",
       "      <td>2016 / 2017</td>\n",
       "      <td>Arenculle</td>\n",
       "      <td>18</td>\n",
       "      <td>player_history_item</td>\n",
       "      <td>Naiste esiliiga</td>\n",
       "      <td>0</td>\n",
       "      <td>0</td>\n",
       "      <td>0</td>\n",
       "    </tr>\n",
       "  </tbody>\n",
       "</table>\n",
       "</div>"
      ],
      "text/plain": [
       "        season         team  player_id                 item      league_name  \\\n",
       "0  2011 / 2012  Tamsalu EBE         12  player_history_item     Naiste liiga   \n",
       "1  2014 / 2015     Team PPT         17  player_history_item  Naiste esiliiga   \n",
       "2  2011 / 2012  Tamsalu EBE         17  player_history_item     Naiste liiga   \n",
       "3  2017 / 2018    Arenculle         18  player_history_item  Naiste esiliiga   \n",
       "4  2016 / 2017    Arenculle         18  player_history_item  Naiste esiliiga   \n",
       "\n",
       "   n_games  n_goals  n_passes  \n",
       "0       14        0         1  \n",
       "1        8        2         3  \n",
       "2       14        1         1  \n",
       "3        4        0         0  \n",
       "4        0        0         0  "
      ]
     },
     "execution_count": 171,
     "metadata": {},
     "output_type": "execute_result"
    }
   ],
   "source": [
    "df_history.head()"
   ]
  },
  {
   "cell_type": "code",
   "execution_count": 172,
   "id": "9672b0cf",
   "metadata": {},
   "outputs": [
    {
     "data": {
      "text/plain": [
       "[Text(0, 0.5, '# of player-games'), (0.0, 12598.55)]"
      ]
     },
     "execution_count": 172,
     "metadata": {},
     "output_type": "execute_result"
    },
    {
     "data": {
      "image/png": "[encoded data removed]",
      "text/plain": [
       "<Figure size 1152x576 with 1 Axes>"
      ]
     },
     "metadata": {
      "needs_background": "light"
     },
     "output_type": "display_data"
    }
   ],
   "source": [
    "# Player-games by season\n",
    "#sns.histplot(data=df_history, x=\"season\")\n",
    "pg_by_season = df_history.groupby([\"season\"]).sum()[[\"n_games\"]].reset_index()\n",
    "pg_by_season\n",
    "ax = sns.pointplot(data=pg_by_season, x=\"season\", y=\"n_games\")\n",
    "ax.set(ylabel='# of player-games', ylim=(0, None))"
   ]
  },
  {
   "cell_type": "code",
   "execution_count": 173,
   "id": "d2319d79",
   "metadata": {},
   "outputs": [],
   "source": [
    "games_by_season = df_history.groupby([\"player_id\", \"season\"]).sum()[[\"n_games\"]].reset_index()"
   ]
  },
  {
   "cell_type": "code",
   "execution_count": 174,
   "id": "6c6b35a8",
   "metadata": {},
   "outputs": [
    {
     "data": {
      "text/html": [
       "<div>\n",
       "<style scoped>\n",
       "    .dataframe tbody tr th:only-of-type {\n",
       "        vertical-align: middle;\n",
       "    }\n",
       "\n",
       "    .dataframe tbody tr th {\n",
       "        vertical-align: top;\n",
       "    }\n",
       "\n",
       "    .dataframe thead th {\n",
       "        text-align: right;\n",
       "    }\n",
       "</style>\n",
       "<table border=\"1\" class=\"dataframe\">\n",
       "  <thead>\n",
       "    <tr style=\"text-align: right;\">\n",
       "      <th></th>\n",
       "      <th>season</th>\n",
       "      <th>player_id</th>\n",
       "      <th>condition</th>\n",
       "    </tr>\n",
       "  </thead>\n",
       "  <tbody>\n",
       "    <tr>\n",
       "      <th>0</th>\n",
       "      <td>2011 / 2012</td>\n",
       "      <td>1136</td>\n",
       "      <td>registered</td>\n",
       "    </tr>\n",
       "    <tr>\n",
       "      <th>1</th>\n",
       "      <td>2012 / 2013</td>\n",
       "      <td>1037</td>\n",
       "      <td>registered</td>\n",
       "    </tr>\n",
       "    <tr>\n",
       "      <th>2</th>\n",
       "      <td>2013 / 2014</td>\n",
       "      <td>953</td>\n",
       "      <td>registered</td>\n",
       "    </tr>\n",
       "    <tr>\n",
       "      <th>3</th>\n",
       "      <td>2014 / 2015</td>\n",
       "      <td>938</td>\n",
       "      <td>registered</td>\n",
       "    </tr>\n",
       "    <tr>\n",
       "      <th>4</th>\n",
       "      <td>2015 / 2016</td>\n",
       "      <td>1052</td>\n",
       "      <td>registered</td>\n",
       "    </tr>\n",
       "    <tr>\n",
       "      <th>5</th>\n",
       "      <td>2016 / 2017</td>\n",
       "      <td>980</td>\n",
       "      <td>registered</td>\n",
       "    </tr>\n",
       "    <tr>\n",
       "      <th>6</th>\n",
       "      <td>2017 / 2018</td>\n",
       "      <td>938</td>\n",
       "      <td>registered</td>\n",
       "    </tr>\n",
       "    <tr>\n",
       "      <th>7</th>\n",
       "      <td>2018 / 2019</td>\n",
       "      <td>993</td>\n",
       "      <td>registered</td>\n",
       "    </tr>\n",
       "    <tr>\n",
       "      <th>8</th>\n",
       "      <td>2019 / 2020</td>\n",
       "      <td>891</td>\n",
       "      <td>registered</td>\n",
       "    </tr>\n",
       "    <tr>\n",
       "      <th>9</th>\n",
       "      <td>2020 / 2021</td>\n",
       "      <td>842</td>\n",
       "      <td>registered</td>\n",
       "    </tr>\n",
       "    <tr>\n",
       "      <th>10</th>\n",
       "      <td>2011 / 2012</td>\n",
       "      <td>938</td>\n",
       "      <td>&gt;=5 games</td>\n",
       "    </tr>\n",
       "    <tr>\n",
       "      <th>11</th>\n",
       "      <td>2012 / 2013</td>\n",
       "      <td>832</td>\n",
       "      <td>&gt;=5 games</td>\n",
       "    </tr>\n",
       "    <tr>\n",
       "      <th>12</th>\n",
       "      <td>2013 / 2014</td>\n",
       "      <td>759</td>\n",
       "      <td>&gt;=5 games</td>\n",
       "    </tr>\n",
       "    <tr>\n",
       "      <th>13</th>\n",
       "      <td>2014 / 2015</td>\n",
       "      <td>768</td>\n",
       "      <td>&gt;=5 games</td>\n",
       "    </tr>\n",
       "    <tr>\n",
       "      <th>14</th>\n",
       "      <td>2015 / 2016</td>\n",
       "      <td>816</td>\n",
       "      <td>&gt;=5 games</td>\n",
       "    </tr>\n",
       "    <tr>\n",
       "      <th>15</th>\n",
       "      <td>2016 / 2017</td>\n",
       "      <td>809</td>\n",
       "      <td>&gt;=5 games</td>\n",
       "    </tr>\n",
       "    <tr>\n",
       "      <th>16</th>\n",
       "      <td>2017 / 2018</td>\n",
       "      <td>748</td>\n",
       "      <td>&gt;=5 games</td>\n",
       "    </tr>\n",
       "    <tr>\n",
       "      <th>17</th>\n",
       "      <td>2018 / 2019</td>\n",
       "      <td>774</td>\n",
       "      <td>&gt;=5 games</td>\n",
       "    </tr>\n",
       "    <tr>\n",
       "      <th>18</th>\n",
       "      <td>2019 / 2020</td>\n",
       "      <td>631</td>\n",
       "      <td>&gt;=5 games</td>\n",
       "    </tr>\n",
       "    <tr>\n",
       "      <th>19</th>\n",
       "      <td>2020 / 2021</td>\n",
       "      <td>364</td>\n",
       "      <td>&gt;=5 games</td>\n",
       "    </tr>\n",
       "  </tbody>\n",
       "</table>\n",
       "</div>"
      ],
      "text/plain": [
       "         season  player_id   condition\n",
       "0   2011 / 2012       1136  registered\n",
       "1   2012 / 2013       1037  registered\n",
       "2   2013 / 2014        953  registered\n",
       "3   2014 / 2015        938  registered\n",
       "4   2015 / 2016       1052  registered\n",
       "5   2016 / 2017        980  registered\n",
       "6   2017 / 2018        938  registered\n",
       "7   2018 / 2019        993  registered\n",
       "8   2019 / 2020        891  registered\n",
       "9   2020 / 2021        842  registered\n",
       "10  2011 / 2012        938   >=5 games\n",
       "11  2012 / 2013        832   >=5 games\n",
       "12  2013 / 2014        759   >=5 games\n",
       "13  2014 / 2015        768   >=5 games\n",
       "14  2015 / 2016        816   >=5 games\n",
       "15  2016 / 2017        809   >=5 games\n",
       "16  2017 / 2018        748   >=5 games\n",
       "17  2018 / 2019        774   >=5 games\n",
       "18  2019 / 2020        631   >=5 games\n",
       "19  2020 / 2021        364   >=5 games"
      ]
     },
     "execution_count": 174,
     "metadata": {},
     "output_type": "execute_result"
    }
   ],
   "source": [
    "players_by_season = games_by_season.groupby([\"season\"]).count()[\"player_id\"].reset_index()\n",
    "p5_by_season = games_by_season[games_by_season[\"n_games\"] >= 5]\n",
    "\n",
    "players_by_season[\"condition\"] = \"registered\"\n",
    "p5_by_season_result = p5_by_season.groupby([\"season\"]).count()[\"player_id\"].reset_index()\n",
    "p5_by_season_result[\"condition\"] = \">=5 games\"\n",
    "\n",
    "counts_by_season = pd.concat([players_by_season, p5_by_season_result]).reset_index(drop=True)\n",
    "\n",
    "counts_by_season"
   ]
  },
  {
   "cell_type": "code",
   "execution_count": 175,
   "id": "64a90ae1",
   "metadata": {},
   "outputs": [
    {
     "data": {
      "text/plain": [
       "[Text(0, 0.5, '# of players'), (0.0, 1174.6)]"
      ]
     },
     "execution_count": 175,
     "metadata": {},
     "output_type": "execute_result"
    },
    {
     "data": {
      "image/png": "[encoded data removed]",
      "text/plain": [
       "<Figure size 1152x576 with 1 Axes>"
      ]
     },
     "metadata": {
      "needs_background": "light"
     },
     "output_type": "display_data"
    }
   ],
   "source": [
    "ax = sns.pointplot(data=counts_by_season, x=\"season\", y=\"player_id\", hue=\"condition\")\n",
    "ax.set(ylabel='# of players', ylim=(0, None))"
   ]
  },
  {
   "cell_type": "code",
   "execution_count": null,
   "id": "fa8b3e74",
   "metadata": {},
   "outputs": [],
   "source": []
  }
 ],
 "metadata": {
  "kernelspec": {
   "display_name": "Python 3 (ipykernel)",
   "language": "python",
   "name": "python3"
  },
  "language_info": {
   "codemirror_mode": {
    "name": "ipython",
    "version": 3
   },
   "file_extension": ".py",
   "mimetype": "text/x-python",
   "name": "python",
   "nbconvert_exporter": "python",
   "pygments_lexer": "ipython3",
   "version": "3.9.1"
  }
 },
 "nbformat": 4,
 "nbformat_minor": 5
}
