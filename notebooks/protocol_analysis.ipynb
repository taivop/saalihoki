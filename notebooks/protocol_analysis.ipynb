{
 "cells": [
  {
   "cell_type": "code",
   "execution_count": 9,
   "metadata": {},
   "outputs": [
    {
     "name": "stdout",
     "output_type": "stream",
     "text": [
      "The autoreload extension is already loaded. To reload it, use:\n",
      "  %reload_ext autoreload\n"
     ]
    }
   ],
   "source": [
    "%load_ext autoreload\n",
    "%autoreload 2\n",
    "\n",
    "import pandas as pd\n",
    "import numpy as np\n",
    "import json\n",
    "from datetime import datetime\n",
    "from pprint import pprint"
   ]
  },
  {
   "cell_type": "code",
   "execution_count": 3,
   "metadata": {},
   "outputs": [],
   "source": [
    "j = json.load(open(\"../data/2020-02-24.json\"))"
   ]
  },
  {
   "cell_type": "code",
   "execution_count": 4,
   "metadata": {},
   "outputs": [
    {
     "data": {
      "text/plain": [
       "3391"
      ]
     },
     "execution_count": 4,
     "metadata": {},
     "output_type": "execute_result"
    }
   ],
   "source": [
    "len(j)"
   ]
  },
  {
   "cell_type": "code",
   "execution_count": 8,
   "metadata": {},
   "outputs": [
    {
     "name": "stdout",
     "output_type": "stream",
     "text": [
      "{'a': {'name': 'Ääsmäe',\n",
      "       'players': [[False, False, 2, 'Tauno Sau', 1273],\n",
      "                   [False, False, 4, 'Fredy Maalt', 151],\n",
      "                   [False, False, 5, 'Ragnar Markus Kuljus', 290],\n",
      "                   [False, False, 9, 'Ivar Agar', 288],\n",
      "                   [False, True, 10, 'Andre Simovart', 294],\n",
      "                   [False, False, 15, 'Targo Trepp', 1932],\n",
      "                   [False, False, 18, 'Tormi Voog', 472],\n",
      "                   [False, False, 19, 'Rasmus Ollemaa', 1444],\n",
      "                   [False, False, 20, 'Rauno Miller', 747],\n",
      "                   [True, False, 21, 'Rauno Varik', 298],\n",
      "                   [False, False, 22, 'Urmet Neem', 2099],\n",
      "                   [False, False, 24, 'Ergo Orumaa', 461],\n",
      "                   [True, False, 31, 'Siim Stokkeby', 159],\n",
      "                   [False, False, 34, 'Janar Laaneste', 307],\n",
      "                   [False, False, 66, 'Sander Stokkeby', 161],\n",
      "                   [False, False, 78, 'Jaan Rebane', 2105],\n",
      "                   [False, False, 87, 'Tanel Kasenurm', 297],\n",
      "                   [False, False, 92, 'Mats Tamme', 152],\n",
      "                   [False, False, 101, 'Jaanus Kallion', None],\n",
      "                   [False, False, 102, 'Anre Vooremaa', None],\n",
      "                   [False, False, 103, 'Kaspar Kallion', None]]},\n",
      " 'b': {'name': 'Jäneda',\n",
      "       'players': [[True, False, 1, 'Maximus Vorobjov', 1675],\n",
      "                   [False, False, 2, 'Ilja Volodin', 1832],\n",
      "                   [False, False, 3, 'Andres Kalavus', 435],\n",
      "                   [False, False, 5, 'Taavi Visnap', 261],\n",
      "                   [True, False, 6, 'Geir Pärtel', 442],\n",
      "                   [False, False, 8, 'Indrek Lumiste ', 968],\n",
      "                   [False, True, 16, 'Veikko Väisanen', 972],\n",
      "                   [False, False, 23, 'Daniil Ruzevitš', 1367],\n",
      "                   [False, False, 39, 'Taavi Lumiste', 269],\n",
      "                   [False, False, 60, 'Igor Tegelmann', 1522],\n",
      "                   [False, False, 77, 'Martin Lehmus', 1489],\n",
      "                   [False, False, 101, 'Tõnu Salm', None]]},\n",
      " 'meta': {'aeg': '23.02.2020 kell 12:45',\n",
      "          'koht': 'Kristiine SH',\n",
      "          'mang': 'Ääsmäe vs Jäneda',\n",
      "          'tulemus': '7 - 3',\n",
      "          'voistlus': 'PAF Saalihokiliiga meistrivõistlused'}}\n"
     ]
    }
   ],
   "source": [
    "pprint(j[0])"
   ]
  },
  {
   "cell_type": "markdown",
   "metadata": {},
   "source": [
    "## Extraction functions"
   ]
  },
  {
   "cell_type": "code",
   "execution_count": 35,
   "metadata": {},
   "outputs": [
    {
     "data": {
      "text/html": [
       "<div>\n",
       "<style scoped>\n",
       "    .dataframe tbody tr th:only-of-type {\n",
       "        vertical-align: middle;\n",
       "    }\n",
       "\n",
       "    .dataframe tbody tr th {\n",
       "        vertical-align: top;\n",
       "    }\n",
       "\n",
       "    .dataframe thead th {\n",
       "        text-align: right;\n",
       "    }\n",
       "</style>\n",
       "<table border=\"1\" class=\"dataframe\">\n",
       "  <thead>\n",
       "    <tr style=\"text-align: right;\">\n",
       "      <th></th>\n",
       "      <th>league</th>\n",
       "      <th>location</th>\n",
       "      <th>num_people</th>\n",
       "      <th>season</th>\n",
       "      <th>time</th>\n",
       "    </tr>\n",
       "  </thead>\n",
       "  <tbody>\n",
       "    <tr>\n",
       "      <th>0</th>\n",
       "      <td>PAF Saalihokiliiga meistrivõistlused</td>\n",
       "      <td>Kristiine SH</td>\n",
       "      <td>33</td>\n",
       "      <td>2019/20</td>\n",
       "      <td>2020-02-23</td>\n",
       "    </tr>\n",
       "    <tr>\n",
       "      <th>1</th>\n",
       "      <td>Naiste esiliiga meistrivõistlused</td>\n",
       "      <td>Mustvee</td>\n",
       "      <td>26</td>\n",
       "      <td>2019/20</td>\n",
       "      <td>2020-02-15</td>\n",
       "    </tr>\n",
       "    <tr>\n",
       "      <th>2</th>\n",
       "      <td>Naiste esiliiga meistrivõistlused</td>\n",
       "      <td>Mustvee</td>\n",
       "      <td>29</td>\n",
       "      <td>2019/20</td>\n",
       "      <td>2020-02-15</td>\n",
       "    </tr>\n",
       "    <tr>\n",
       "      <th>3</th>\n",
       "      <td>PAF Saalihokiliiga meistrivõistlused</td>\n",
       "      <td>Rapla Sadolin</td>\n",
       "      <td>35</td>\n",
       "      <td>2019/20</td>\n",
       "      <td>2020-02-16</td>\n",
       "    </tr>\n",
       "    <tr>\n",
       "      <th>4</th>\n",
       "      <td>PAF Saalihokiliiga meistrivõistlused</td>\n",
       "      <td>Rapla Sadolin</td>\n",
       "      <td>31</td>\n",
       "      <td>2019/20</td>\n",
       "      <td>2020-02-16</td>\n",
       "    </tr>\n",
       "  </tbody>\n",
       "</table>\n",
       "</div>"
      ],
      "text/plain": [
       "                                 league       location  num_people   season  \\\n",
       "0  PAF Saalihokiliiga meistrivõistlused   Kristiine SH          33  2019/20   \n",
       "1     Naiste esiliiga meistrivõistlused        Mustvee          26  2019/20   \n",
       "2     Naiste esiliiga meistrivõistlused        Mustvee          29  2019/20   \n",
       "3  PAF Saalihokiliiga meistrivõistlused  Rapla Sadolin          35  2019/20   \n",
       "4  PAF Saalihokiliiga meistrivõistlused  Rapla Sadolin          31  2019/20   \n",
       "\n",
       "        time  \n",
       "0 2020-02-23  \n",
       "1 2020-02-15  \n",
       "2 2020-02-15  \n",
       "3 2020-02-16  \n",
       "4 2020-02-16  "
      ]
     },
     "execution_count": 35,
     "metadata": {},
     "output_type": "execute_result"
    }
   ],
   "source": [
    "def get_datetime(game):\n",
    "    return datetime.strptime(game[\"meta\"][\"aeg\"][:10], \"%d.%m.%Y\")\n",
    "\n",
    "def get_season(game):\n",
    "    dt = get_datetime(game)\n",
    "    base_year = dt.year\n",
    "    if dt.month <= 7:\n",
    "        base_year = dt.year - 1\n",
    "        \n",
    "    return str(base_year) + \"/\" + str(base_year+1)[2:4]\n",
    "\n",
    "def get_num_people(game):\n",
    "    return len(game[\"a\"][\"players\"]) + len(game[\"b\"][\"players\"])\n",
    "\n",
    "def get_location(game):\n",
    "    return game[\"meta\"][\"koht\"]\n",
    "\n",
    "def get_league(game):\n",
    "    return game[\"meta\"][\"voistlus\"]\n",
    "\n",
    "def get_features(g):\n",
    "    return {\n",
    "        \"time\": get_datetime(g),\n",
    "        \"season\": get_season(g),\n",
    "        \"num_people\": get_num_people(g),\n",
    "        \"location\": get_location(g),\n",
    "        \"league\": get_league(g)\n",
    "    }\n",
    "\n",
    "\n",
    "dfl = [get_features(game) for game in j]\n",
    "df = pd.DataFrame(dfl)\n",
    "\n",
    "# TODO Fix locations - take only first part of string\n",
    "\n",
    "\n",
    "df.head()"
   ]
  },
  {
   "cell_type": "markdown",
   "metadata": {},
   "source": [
    "## Summary tables"
   ]
  },
  {
   "cell_type": "code",
   "execution_count": 28,
   "metadata": {},
   "outputs": [
    {
     "data": {
      "text/plain": [
       "season\n",
       "2011/12    483\n",
       "2012/13    392\n",
       "2013/14    339\n",
       "2014/15    370\n",
       "2015/16    352\n",
       "2016/17    416\n",
       "2017/18    417\n",
       "2018/19    402\n",
       "2019/20    220\n",
       "Name: season, dtype: int64"
      ]
     },
     "execution_count": 28,
     "metadata": {},
     "output_type": "execute_result"
    }
   ],
   "source": [
    "# Count of games by season\n",
    "df.groupby(\"season\")[\"season\"].aggregate(\"count\")"
   ]
  },
  {
   "cell_type": "code",
   "execution_count": 29,
   "metadata": {},
   "outputs": [
    {
     "data": {
      "text/plain": [
       "season\n",
       "2011/12    13363\n",
       "2012/13    11119\n",
       "2013/14     9930\n",
       "2014/15    10339\n",
       "2015/16    10321\n",
       "2016/17    11196\n",
       "2017/18    10773\n",
       "2018/19    10815\n",
       "2019/20     6010\n",
       "Name: num_people, dtype: int64"
      ]
     },
     "execution_count": 29,
     "metadata": {},
     "output_type": "execute_result"
    }
   ],
   "source": [
    "# Count of people by season\n",
    "df.groupby(\"season\")[\"num_people\"].aggregate(\"sum\")"
   ]
  },
  {
   "cell_type": "code",
   "execution_count": 36,
   "metadata": {},
   "outputs": [
    {
     "data": {
      "text/plain": [
       "location\n",
       "Virtuse SH                 732\n",
       "Kristiine SH               569\n",
       "EMÜ SH                     427\n",
       "Õismäe SMH                 268\n",
       "Tapa SH                    170\n",
       "Kiili SH                   128\n",
       "Sparta SH                  105\n",
       "EMÜ SK                      88\n",
       "TTÜ SH                      85\n",
       "Õismäe SH                   76\n",
       "Kuusalu                     45\n",
       "Keila TK                    45\n",
       "Valga SH                    44\n",
       "Imavere SH                  42\n",
       "Kristiine                   36\n",
       "Kuusalu SH                  31\n",
       "Tapa                        30\n",
       "Kehra                       29\n",
       "Rapla                       27\n",
       "Sadolini SH                 27\n",
       "Jõgeva                      24\n",
       "Õismäe                      23\n",
       "Valga                       18\n",
       "EMÜ spordihoone             17\n",
       "Tamsalu SH                  15\n",
       "Kõrgessaare SH              14\n",
       "Sadolin SH                  14\n",
       "Tapa SK                     13\n",
       "Aruküla                     12\n",
       "Jõgeva SH                   12\n",
       "                          ... \n",
       "Sadolin Spordihoone          5\n",
       "Ääsmäe                       4\n",
       "Aseri                        4\n",
       "Lähte                        4\n",
       "ÕSM                          4\n",
       "Tallinn                      4\n",
       "Rapla Sadolin                3\n",
       "Saku kool                    3\n",
       "Rapla Sadolin SH             3\n",
       "Sparta                       3\n",
       "Kalevi spordihall            3\n",
       "Tallinn ÕSH                  3\n",
       "Narva spordikeskus           3\n",
       "Sadolin                      3\n",
       "Keila Tervisekeskus          2\n",
       "Viljandi MG                  2\n",
       "TalTech SH                   2\n",
       "Jõgeva Virtus                1\n",
       "Viljandi Kesklinna kool      1\n",
       "Viljandi Kesklinna Kool      1\n",
       "Saku valla Spordikeskus      1\n",
       "Raaasiku                     1\n",
       "Virtuse Spordihoone          1\n",
       "EMÜ Spordihoone              1\n",
       "Õismäe SHM                   1\n",
       "U19N-2                       1\n",
       "Tapa Spordihoone             1\n",
       "Narva Spordikeskus           1\n",
       "Õismaäe SMH                  1\n",
       "Paikuse SH                   1\n",
       "Name: location, Length: 80, dtype: int64"
      ]
     },
     "execution_count": 36,
     "metadata": {},
     "output_type": "execute_result"
    }
   ],
   "source": [
    "# Top locations\n",
    "df.groupby(\"location\")[\"location\"].aggregate(\"count\").sort_values(ascending=False)"
   ]
  },
  {
   "cell_type": "markdown",
   "metadata": {},
   "source": [
    "## Plots"
   ]
  },
  {
   "cell_type": "code",
   "execution_count": null,
   "metadata": {},
   "outputs": [],
   "source": []
  }
 ],
 "metadata": {
  "kernelspec": {
   "display_name": "Python 3",
   "language": "python",
   "name": "python3"
  },
  "language_info": {
   "codemirror_mode": {
    "name": "ipython",
    "version": 3
   },
   "file_extension": ".py",
   "mimetype": "text/x-python",
   "name": "python",
   "nbconvert_exporter": "python",
   "pygments_lexer": "ipython3",
   "version": "3.7.1"
  }
 },
 "nbformat": 4,
 "nbformat_minor": 2
}
